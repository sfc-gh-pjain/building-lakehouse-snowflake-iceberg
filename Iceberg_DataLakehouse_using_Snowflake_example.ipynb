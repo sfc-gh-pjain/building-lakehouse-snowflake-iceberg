{
 "metadata": {
  "kernelspec": {
   "display_name": "Streamlit Notebook",
   "name": "streamlit"
  }
 },
 "nbformat_minor": 5,
 "nbformat": 4,
 "cells": [
  {
   "cell_type": "code",
   "id": "3775908f-ca36-4846-8f38-5adca39217f2",
   "metadata": {
    "language": "sql",
    "name": "cell1",
    "collapsed": false
   },
   "source": "use schema iceberg1.demo;\nuse role accountadmin;\n\nCREATE WAREHOUSE IF NOT EXISTS LAB_S_WH \n    WITH WAREHOUSE_SIZE = 'SMALL' \n    WAREHOUSE_TYPE = 'STANDARD' \n    AUTO_SUSPEND = 300 \n    AUTO_RESUME = TRUE \n    COMMENT = 'WAREHOUSE CREATED FOR DEMO';\n\nuse warehouse lab_s_wh;",
   "execution_count": null,
   "outputs": []
  },
  {
   "cell_type": "code",
   "id": "8d50cbf4-0c8d-4950-86cb-114990437ac9",
   "metadata": {
    "language": "sql",
    "name": "cell2",
    "collapsed": false
   },
   "source": "-- Create and integrate Snowflake with your obejct storage \n\nCREATE EXTERNAL VOLUME if not exists extvol_managed_icbg_demo\n   STORAGE_LOCATIONS =\n      (\n         (\n            NAME = 'managed-iceberg-storage'\n            STORAGE_PROVIDER = 'S3'\n            STORAGE_BASE_URL = 'S3 Bucket'\n            STORAGE_AWS_ROLE_ARN = 'AWS ARN for ROLE'\n         )\n      );\n\ndesc EXTERNAL VOLUME extvol_managed_icbg_demo; ",
   "execution_count": null,
   "outputs": []
  },
  {
   "cell_type": "code",
   "id": "c695373e-ac74-4b62-a1f1-08206cbd5c81",
   "metadata": {
    "language": "sql",
    "name": "cell3",
    "collapsed": false
   },
   "source": "/*************************************\n-- Bronze\n*************************************/\n-- Load the data files into the stage either using the Snowflake UI or using the PUT command or use the External stage in S3\n-- https://docs.snowflake.com/en/sql-reference/sql/put\n\n\ncreate stage if not exists json_stage;\nls @json_stage;\n\ncreate or replace file format json_format\n  type = json\n  --compression = GZIP\n  STRIP_OUTER_ARRAY= TRUE\n  TRIM_SPACE = TRUE;",
   "execution_count": null,
   "outputs": []
  },
  {
   "cell_type": "code",
   "id": "95d9c26c-9e29-415f-b294-ba3d318b8325",
   "metadata": {
    "language": "sql",
    "name": "cell4",
    "collapsed": false
   },
   "outputs": [],
   "source": "/*************************************\n-- Silver Layer\n*************************************/\n\nCREATE or replace ICEBERG  table snow_icbg_sales_raw (\n\tcustomer_id NUMBER(20,0) ,\n    customer_name STRING,\n    purchases object(prodid number(20,2), purchase_amount number(20,2), purchase_date date, quantity number(5,0))\n)\n\n  CATALOG='SNOWFLAKE'\n  EXTERNAL_VOLUME='extvol_managed_icbg_demo'\n  BASE_LOCATION='RELATIVE/PATH/to/ICEBERG'\n; \n\ndesc table snow_icbg_sales_raw;\n\n-- Copy data into the table using the schema detection support\nCOPY INTO snow_icbg_sales_raw\n  FROM @json_stage/sales_data.json\n  FILE_FORMAT = (FORMAT_NAME = 'json_format')\n  MATCH_BY_COLUMN_NAME='CASE_INSENSITIVE';\n\nSELECT SYSTEM$GET_ICEBERG_TABLE_INFORMATION('iceberg1.demo.snow_icbg_sales_raw');\n\nselect * from snow_icbg_sales_raw limit 10;",
   "execution_count": null
  },
  {
   "cell_type": "code",
   "id": "fb599bb4-3578-4543-986b-e0cea4d6330c",
   "metadata": {
    "language": "sql",
    "name": "cell5",
    "collapsed": false
   },
   "outputs": [],
   "source": "/*************************************\n--- Gold Layer/Consumption Layer\n*************************************/\n\nselect \n    s.customer_id,\n    s.customer_name,\n    s.purchases:\"prodid\"::number(5) as product_id,\n    s.purchases:\"purchase_amount\"::number(10) as saleprice,\n    s.purchases:\"quantity\"::number(5) as quantity,\n    s.purchases:\"purchase_date\"::date as salesdate\nfrom \n    snow_icbg_sales_raw s;\n\nSELECT\n  SYSTEM$TYPEOF(purchases) from snow_icbg_sales_raw;",
   "execution_count": null
  },
  {
   "cell_type": "code",
   "id": "a3af29b6-6726-43d8-9e3a-c795eab434ee",
   "metadata": {
    "language": "sql",
    "name": "cell6",
    "collapsed": false
   },
   "outputs": [],
   "source": "CREATE or replace ICEBERG table snow_icbg_sale_tranformed  \n  CATALOG = 'SNOWFLAKE'\n  EXTERNAL_VOLUME = 'extvol_managed_icbg_demo'\n  BASE_LOCATION = 'RELATIVE/PATH/to/ICEBERG'\n  \n  as\n(\nselect \n    s.customer_id,\n    s.customer_name,\n    s.purchases:\"prodid\"::number(5) as product_id,\n    s.purchases:\"purchase_amount\"::number(10) as saleprice,\n    s.purchases:\"quantity\"::number(5) as quantity,\n    s.purchases:\"purchase_date\"::date as salesdate\nfrom \n    snow_icbg_sales_raw s\n)\n;    \n",
   "execution_count": null
  },
  {
   "cell_type": "code",
   "id": "6774c184-9622-4ee4-801c-6994bc02b8f5",
   "metadata": {
    "language": "sql",
    "name": "cell13",
    "collapsed": false
   },
   "outputs": [],
   "source": "select * from snow_icbg_sale_tranformed limit 10;",
   "execution_count": null
  },
  {
   "cell_type": "code",
   "id": "1f1c7991-c395-47c4-819d-298c8859e51d",
   "metadata": {
    "language": "sql",
    "name": "cell11",
    "collapsed": false
   },
   "outputs": [],
   "source": "desc iceberg table snow_icbg_sale_tranformed;",
   "execution_count": null
  },
  {
   "cell_type": "code",
   "id": "f2124e57-1aa8-4dac-92b6-63d61ecfe686",
   "metadata": {
    "language": "sql",
    "name": "cell7",
    "collapsed": false
   },
   "outputs": [],
   "source": "------------- Schema Evolution --------------\n\nALTER ICEBERG TABLE snow_icbg_sale_tranformed ADD COLUMN UNITPRICE NUMBER(10,4);\n\ndesc iceberg table snow_icbg_sale_tranformed;\n\nUPDATE snow_icbg_sale_tranformed\nSET \nUNITPRICE = (SALEPRICE/QUANTITY);\n\n\n",
   "execution_count": null
  },
  {
   "cell_type": "code",
   "id": "8fc1ae67-88d8-460f-93ed-3b442ef0fa5f",
   "metadata": {
    "language": "sql",
    "name": "cell12",
    "collapsed": false
   },
   "outputs": [],
   "source": "SELECT SYSTEM$GET_ICEBERG_TABLE_INFORMATION('iceberg1.demo.snow_icbg_sale_tranformed');  \n\nselect * from snow_icbg_sale_tranformed;",
   "execution_count": null
  },
  {
   "cell_type": "code",
   "id": "66662049-1d0c-4523-bffd-85ad5bac0115",
   "metadata": {
    "language": "sql",
    "name": "cell9"
   },
   "outputs": [],
   "source": "select * from snow_icbg_sale_tranformed;",
   "execution_count": null
  },
  {
   "cell_type": "code",
   "id": "c2cbaf9a-7c5c-4748-9650-e2cb14f1d602",
   "metadata": {
    "language": "sql",
    "name": "cell8",
    "collapsed": false
   },
   "outputs": [],
   "source": "-------- Time Travel --------------\n\nSELECT * FROM snow_icbg_sale_tranformed AT(OFFSET => -60*2);\n\n",
   "execution_count": null
  },
  {
   "cell_type": "code",
   "id": "0bb33844-06b4-42c3-ab42-dc7f7b51e54a",
   "metadata": {
    "language": "sql",
    "name": "cell10",
    "collapsed": false
   },
   "outputs": [],
   "source": "-- Cleanup\n--DROP ICEBERG TABLE if exists snow_icbg_sales_raw;\n--DROP ICEBERG TABLE if exists snow_icbg_sale_tranformed;\n\n--rm @stg_icbg_demo/RELATIVE/PATH/to/ICEBERG ;\n--rm @stg_icbg_demo/RELATIVE/PATH/to/ICEBERG;",
   "execution_count": null
  }
 ]
}